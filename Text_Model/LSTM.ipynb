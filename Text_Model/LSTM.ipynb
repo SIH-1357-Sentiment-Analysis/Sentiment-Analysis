{
 "cells": [
  {
   "cell_type": "code",
   "execution_count": 1,
   "id": "ae23ed62",
   "metadata": {},
   "outputs": [
    {
     "ename": "ModuleNotFoundError",
     "evalue": "No module named 'pandas'",
     "output_type": "error",
     "traceback": [
      "\u001b[1;31m---------------------------------------------------------------------------\u001b[0m",
      "\u001b[1;31mModuleNotFoundError\u001b[0m                       Traceback (most recent call last)",
      "Cell \u001b[1;32mIn[1], line 1\u001b[0m\n\u001b[1;32m----> 1\u001b[0m \u001b[38;5;28;01mimport\u001b[39;00m \u001b[38;5;21;01mpandas\u001b[39;00m \u001b[38;5;28;01mas\u001b[39;00m \u001b[38;5;21;01mpd\u001b[39;00m\n\u001b[0;32m      2\u001b[0m \u001b[38;5;28;01mimport\u001b[39;00m \u001b[38;5;21;01mnumpy\u001b[39;00m \u001b[38;5;28;01mas\u001b[39;00m \u001b[38;5;21;01mnp\u001b[39;00m\n",
      "\u001b[1;31mModuleNotFoundError\u001b[0m: No module named 'pandas'"
     ]
    }
   ],
   "source": [
    "import pandas as pd\n",
    "import numpy as np"
   ]
  },
  {
   "cell_type": "code",
   "execution_count": 2,
   "id": "0634fbaa",
   "metadata": {},
   "outputs": [
    {
     "name": "stdout",
     "output_type": "stream",
     "text": [
      "Collecting pandas\n",
      "  Obtaining dependency information for pandas from https://files.pythonhosted.org/packages/ce/cd/a7c2cbffe2afff975349e60b14b63a448162145a7acac8ba12ddc2ed78a8/pandas-2.1.1-cp310-cp310-win_amd64.whl.metadata\n",
      "  Downloading pandas-2.1.1-cp310-cp310-win_amd64.whl.metadata (18 kB)\n",
      "Requirement already satisfied: numpy>=1.22.4 in c:\\users\\hari\\anaconda3\\envs\\sentimentanalysis\\lib\\site-packages (from pandas) (1.26.0)\n",
      "Requirement already satisfied: python-dateutil>=2.8.2 in c:\\users\\hari\\anaconda3\\envs\\sentimentanalysis\\lib\\site-packages (from pandas) (2.8.2)\n",
      "Collecting pytz>=2020.1 (from pandas)\n",
      "  Obtaining dependency information for pytz>=2020.1 from https://files.pythonhosted.org/packages/32/4d/aaf7eff5deb402fd9a24a1449a8119f00d74ae9c2efa79f8ef9994261fc2/pytz-2023.3.post1-py2.py3-none-any.whl.metadata\n",
      "  Downloading pytz-2023.3.post1-py2.py3-none-any.whl.metadata (22 kB)\n",
      "Collecting tzdata>=2022.1 (from pandas)\n",
      "  Using cached tzdata-2023.3-py2.py3-none-any.whl (341 kB)\n",
      "Requirement already satisfied: six>=1.5 in c:\\users\\hari\\anaconda3\\envs\\sentimentanalysis\\lib\\site-packages (from python-dateutil>=2.8.2->pandas) (1.16.0)\n",
      "Downloading pandas-2.1.1-cp310-cp310-win_amd64.whl (10.7 MB)\n",
      "   ---------------------------------------- 0.0/10.7 MB ? eta -:--:--\n",
      "    --------------------------------------- 0.2/10.7 MB 5.3 MB/s eta 0:00:02\n",
      "   - -------------------------------------- 0.4/10.7 MB 4.6 MB/s eta 0:00:03\n",
      "   --- ------------------------------------ 1.0/10.7 MB 8.9 MB/s eta 0:00:02\n",
      "   ----- ---------------------------------- 1.5/10.7 MB 8.4 MB/s eta 0:00:02\n",
      "   -------- ------------------------------- 2.2/10.7 MB 10.6 MB/s eta 0:00:01\n",
      "   ----------- ---------------------------- 3.0/10.7 MB 12.1 MB/s eta 0:00:01\n",
      "   ------------- -------------------------- 3.5/10.7 MB 12.4 MB/s eta 0:00:01\n",
      "   --------------- ------------------------ 4.0/10.7 MB 12.8 MB/s eta 0:00:01\n",
      "   ---------------- ----------------------- 4.3/10.7 MB 12.4 MB/s eta 0:00:01\n",
      "   ----------------- ---------------------- 4.7/10.7 MB 11.6 MB/s eta 0:00:01\n",
      "   --------------------- ------------------ 5.8/10.7 MB 12.7 MB/s eta 0:00:01\n",
      "   ------------------------- -------------- 6.8/10.7 MB 13.2 MB/s eta 0:00:01\n",
      "   --------------------------- ------------ 7.4/10.7 MB 13.5 MB/s eta 0:00:01\n",
      "   ------------------------------- -------- 8.4/10.7 MB 14.1 MB/s eta 0:00:01\n",
      "   -------------------------------- ------- 8.6/10.7 MB 14.2 MB/s eta 0:00:01\n",
      "   -------------------------------- ------- 8.6/10.7 MB 14.2 MB/s eta 0:00:01\n",
      "   ------------------------------------ --- 9.8/10.7 MB 13.3 MB/s eta 0:00:01\n",
      "   ---------------------------------------  10.7/10.7 MB 14.9 MB/s eta 0:00:01\n",
      "   ---------------------------------------  10.7/10.7 MB 14.9 MB/s eta 0:00:01\n",
      "   ---------------------------------------  10.7/10.7 MB 14.9 MB/s eta 0:00:01\n",
      "   ---------------------------------------- 10.7/10.7 MB 12.6 MB/s eta 0:00:00\n",
      "Downloading pytz-2023.3.post1-py2.py3-none-any.whl (502 kB)\n",
      "   ---------------------------------------- 0.0/502.5 kB ? eta -:--:--\n",
      "   --------------------------------------- 502.5/502.5 kB 15.9 MB/s eta 0:00:00\n",
      "Installing collected packages: pytz, tzdata, pandas\n",
      "Successfully installed pandas-2.1.1 pytz-2023.3.post1 tzdata-2023.3\n"
     ]
    }
   ],
   "source": [
    "!pip install pandas"
   ]
  },
  {
   "cell_type": "code",
   "execution_count": 3,
   "id": "4be4aca6",
   "metadata": {},
   "outputs": [
    {
     "name": "stdout",
     "output_type": "stream",
     "text": [
      "Requirement already satisfied: numpy in c:\\users\\hari\\anaconda3\\envs\\sentimentanalysis\\lib\\site-packages (1.26.0)\n"
     ]
    }
   ],
   "source": [
    "!pip install numpy"
   ]
  },
  {
   "cell_type": "code",
   "execution_count": 4,
   "id": "fa9c3ab9",
   "metadata": {},
   "outputs": [
    {
     "name": "stdout",
     "output_type": "stream",
     "text": [
      "Collecting nltk\n",
      "  Using cached nltk-3.8.1-py3-none-any.whl (1.5 MB)\n",
      "Requirement already satisfied: click in c:\\users\\hari\\anaconda3\\envs\\sentimentanalysis\\lib\\site-packages (from nltk) (8.0.4)\n",
      "Collecting joblib (from nltk)\n",
      "  Obtaining dependency information for joblib from https://files.pythonhosted.org/packages/10/40/d551139c85db202f1f384ba8bcf96aca2f329440a844f924c8a0040b6d02/joblib-1.3.2-py3-none-any.whl.metadata\n",
      "  Using cached joblib-1.3.2-py3-none-any.whl.metadata (5.4 kB)\n",
      "Collecting regex>=2021.8.3 (from nltk)\n",
      "  Obtaining dependency information for regex>=2021.8.3 from https://files.pythonhosted.org/packages/e6/7c/96a44dabe8577f43ac34e34d0ac098ee42390a06fee4cbe8b5317ecf2520/regex-2023.8.8-cp310-cp310-win_amd64.whl.metadata\n",
      "  Downloading regex-2023.8.8-cp310-cp310-win_amd64.whl.metadata (42 kB)\n",
      "     ---------------------------------------- 0.0/42.0 kB ? eta -:--:--\n",
      "     --------------------------- ---------- 30.7/42.0 kB 660.6 kB/s eta 0:00:01\n",
      "     -------------------------------------- 42.0/42.0 kB 504.5 kB/s eta 0:00:00\n",
      "Collecting tqdm (from nltk)\n",
      "  Obtaining dependency information for tqdm from https://files.pythonhosted.org/packages/00/e5/f12a80907d0884e6dff9c16d0c0114d81b8cd07dc3ae54c5e962cc83037e/tqdm-4.66.1-py3-none-any.whl.metadata\n",
      "  Using cached tqdm-4.66.1-py3-none-any.whl.metadata (57 kB)\n",
      "Requirement already satisfied: colorama in c:\\users\\hari\\anaconda3\\envs\\sentimentanalysis\\lib\\site-packages (from click->nltk) (0.4.6)\n",
      "Downloading regex-2023.8.8-cp310-cp310-win_amd64.whl (268 kB)\n",
      "   ---------------------------------------- 0.0/268.3 kB ? eta -:--:--\n",
      "   ---- ----------------------------------- 30.7/268.3 kB ? eta -:--:--\n",
      "   ---------------- ----------------------- 112.6/268.3 kB 1.3 MB/s eta 0:00:01\n",
      "   ------------------------- -------------- 174.1/268.3 kB 1.7 MB/s eta 0:00:01\n",
      "   ---------------------------------------- 268.3/268.3 kB 1.7 MB/s eta 0:00:00\n",
      "Using cached joblib-1.3.2-py3-none-any.whl (302 kB)\n",
      "Using cached tqdm-4.66.1-py3-none-any.whl (78 kB)\n",
      "Installing collected packages: tqdm, regex, joblib, nltk\n",
      "Successfully installed joblib-1.3.2 nltk-3.8.1 regex-2023.8.8 tqdm-4.66.1\n"
     ]
    }
   ],
   "source": [
    "!pip install nltk"
   ]
  },
  {
   "cell_type": "code",
   "execution_count": 10,
   "id": "c774ca18",
   "metadata": {},
   "outputs": [
    {
     "ename": "ModuleNotFoundError",
     "evalue": "No module named 'seaborn'",
     "output_type": "error",
     "traceback": [
      "\u001b[1;31m---------------------------------------------------------------------------\u001b[0m",
      "\u001b[1;31mModuleNotFoundError\u001b[0m                       Traceback (most recent call last)",
      "Cell \u001b[1;32mIn[10], line 5\u001b[0m\n\u001b[0;32m      3\u001b[0m \u001b[38;5;28;01mimport\u001b[39;00m \u001b[38;5;21;01mnltk\u001b[39;00m\n\u001b[0;32m      4\u001b[0m \u001b[38;5;28;01mfrom\u001b[39;00m \u001b[38;5;21;01mnltk\u001b[39;00m\u001b[38;5;21;01m.\u001b[39;00m\u001b[38;5;21;01mcorpus\u001b[39;00m \u001b[38;5;28;01mimport\u001b[39;00m stopwords\n\u001b[1;32m----> 5\u001b[0m \u001b[38;5;28;01mimport\u001b[39;00m \u001b[38;5;21;01mseaborn\u001b[39;00m \u001b[38;5;28;01mas\u001b[39;00m \u001b[38;5;21;01msns\u001b[39;00m\n",
      "\u001b[1;31mModuleNotFoundError\u001b[0m: No module named 'seaborn'"
     ]
    }
   ],
   "source": [
    "import pandas as pd\n",
    "import numpy as np\n",
    "import nltk\n",
    "from nltk.corpus import stopwords\n",
    "import seaborn as sns"
   ]
  },
  {
   "cell_type": "code",
   "execution_count": 8,
   "id": "563cfcbe",
   "metadata": {},
   "outputs": [
    {
     "ename": "ModuleNotFoundError",
     "evalue": "No module named 'textblob'",
     "output_type": "error",
     "traceback": [
      "\u001b[1;31m---------------------------------------------------------------------------\u001b[0m",
      "\u001b[1;31mModuleNotFoundError\u001b[0m                       Traceback (most recent call last)",
      "Cell \u001b[1;32mIn[8], line 1\u001b[0m\n\u001b[1;32m----> 1\u001b[0m \u001b[38;5;28;01mfrom\u001b[39;00m \u001b[38;5;21;01mtextblob\u001b[39;00m \u001b[38;5;28;01mimport\u001b[39;00m Word\n",
      "\u001b[1;31mModuleNotFoundError\u001b[0m: No module named 'textblob'"
     ]
    }
   ],
   "source": [
    "from textblob import Word"
   ]
  },
  {
   "cell_type": "code",
   "execution_count": 9,
   "id": "7b22cf5c",
   "metadata": {},
   "outputs": [
    {
     "name": "stdout",
     "output_type": "stream",
     "text": [
      "Collecting textblob\n",
      "  Downloading textblob-0.17.1-py2.py3-none-any.whl (636 kB)\n",
      "     ---------------------------------------- 0.0/636.8 kB ? eta -:--:--\n",
      "     ---- ---------------------------------- 71.7/636.8 kB 2.0 MB/s eta 0:00:01\n",
      "     ---------------- --------------------- 276.5/636.8 kB 3.4 MB/s eta 0:00:01\n",
      "     -------------------------------------  634.9/636.8 kB 5.0 MB/s eta 0:00:01\n",
      "     -------------------------------------- 636.8/636.8 kB 4.0 MB/s eta 0:00:00\n",
      "Requirement already satisfied: nltk>=3.1 in c:\\users\\hari\\anaconda3\\envs\\sentimentanalysis\\lib\\site-packages (from textblob) (3.8.1)\n",
      "Requirement already satisfied: click in c:\\users\\hari\\anaconda3\\envs\\sentimentanalysis\\lib\\site-packages (from nltk>=3.1->textblob) (8.0.4)\n",
      "Requirement already satisfied: joblib in c:\\users\\hari\\anaconda3\\envs\\sentimentanalysis\\lib\\site-packages (from nltk>=3.1->textblob) (1.3.2)\n",
      "Requirement already satisfied: regex>=2021.8.3 in c:\\users\\hari\\anaconda3\\envs\\sentimentanalysis\\lib\\site-packages (from nltk>=3.1->textblob) (2023.8.8)\n",
      "Requirement already satisfied: tqdm in c:\\users\\hari\\anaconda3\\envs\\sentimentanalysis\\lib\\site-packages (from nltk>=3.1->textblob) (4.66.1)\n",
      "Requirement already satisfied: colorama in c:\\users\\hari\\anaconda3\\envs\\sentimentanalysis\\lib\\site-packages (from click->nltk>=3.1->textblob) (0.4.6)\n",
      "Installing collected packages: textblob\n",
      "Successfully installed textblob-0.17.1\n"
     ]
    }
   ],
   "source": [
    "!pip install textblob"
   ]
  },
  {
   "cell_type": "code",
   "execution_count": 11,
   "id": "6bcf00d8",
   "metadata": {},
   "outputs": [
    {
     "name": "stdout",
     "output_type": "stream",
     "text": [
      "Collecting seaborn\n",
      "  Obtaining dependency information for seaborn from https://files.pythonhosted.org/packages/7b/e5/83fcd7e9db036c179e0352bfcd20f81d728197a16f883e7b90307a88e65e/seaborn-0.13.0-py3-none-any.whl.metadata\n",
      "  Downloading seaborn-0.13.0-py3-none-any.whl.metadata (5.3 kB)\n",
      "Requirement already satisfied: numpy!=1.24.0,>=1.20 in c:\\users\\hari\\anaconda3\\envs\\sentimentanalysis\\lib\\site-packages (from seaborn) (1.26.0)\n",
      "Requirement already satisfied: pandas>=1.2 in c:\\users\\hari\\anaconda3\\envs\\sentimentanalysis\\lib\\site-packages (from seaborn) (2.1.1)\n",
      "Collecting matplotlib!=3.6.1,>=3.3 (from seaborn)\n",
      "  Obtaining dependency information for matplotlib!=3.6.1,>=3.3 from https://files.pythonhosted.org/packages/7a/94/a1615bac6706eb8a58fe08675b80a11b5463ef9591176dd3e57257495774/matplotlib-3.8.0-cp310-cp310-win_amd64.whl.metadata\n",
      "  Downloading matplotlib-3.8.0-cp310-cp310-win_amd64.whl.metadata (5.9 kB)\n",
      "Collecting contourpy>=1.0.1 (from matplotlib!=3.6.1,>=3.3->seaborn)\n",
      "  Obtaining dependency information for contourpy>=1.0.1 from https://files.pythonhosted.org/packages/55/14/0dc1884e3c04f9b073a47283f5d424926644250891db392a07c56f05e5c5/contourpy-1.1.1-cp310-cp310-win_amd64.whl.metadata\n",
      "  Downloading contourpy-1.1.1-cp310-cp310-win_amd64.whl.metadata (5.9 kB)\n",
      "Collecting cycler>=0.10 (from matplotlib!=3.6.1,>=3.3->seaborn)\n",
      "  Obtaining dependency information for cycler>=0.10 from https://files.pythonhosted.org/packages/2b/b3/70c33027c4918c10ccf176014b38f8b91cb18ac018a78854543a4fc72609/cycler-0.12.0-py3-none-any.whl.metadata\n",
      "  Downloading cycler-0.12.0-py3-none-any.whl.metadata (3.8 kB)\n",
      "Collecting fonttools>=4.22.0 (from matplotlib!=3.6.1,>=3.3->seaborn)\n",
      "  Obtaining dependency information for fonttools>=4.22.0 from https://files.pythonhosted.org/packages/62/a9/3d69ec0b1ec02829af67afe378576ad58257004d157d0a70ac29f7cf9a67/fonttools-4.43.0-cp310-cp310-win_amd64.whl.metadata\n",
      "  Downloading fonttools-4.43.0-cp310-cp310-win_amd64.whl.metadata (154 kB)\n",
      "     ---------------------------------------- 0.0/155.0 kB ? eta -:--:--\n",
      "     ----------------------- --------------- 92.2/155.0 kB 1.7 MB/s eta 0:00:01\n",
      "     -------------------------------------- 155.0/155.0 kB 2.3 MB/s eta 0:00:00\n",
      "Collecting kiwisolver>=1.0.1 (from matplotlib!=3.6.1,>=3.3->seaborn)\n",
      "  Obtaining dependency information for kiwisolver>=1.0.1 from https://files.pythonhosted.org/packages/4a/a1/8a9c9be45c642fa12954855d8b3a02d9fd8551165a558835a19508fec2e6/kiwisolver-1.4.5-cp310-cp310-win_amd64.whl.metadata\n",
      "  Downloading kiwisolver-1.4.5-cp310-cp310-win_amd64.whl.metadata (6.5 kB)\n",
      "Requirement already satisfied: packaging>=20.0 in c:\\users\\hari\\anaconda3\\envs\\sentimentanalysis\\lib\\site-packages (from matplotlib!=3.6.1,>=3.3->seaborn) (23.1)\n",
      "Collecting pillow>=6.2.0 (from matplotlib!=3.6.1,>=3.3->seaborn)\n",
      "  Obtaining dependency information for pillow>=6.2.0 from https://files.pythonhosted.org/packages/23/ca/7296d769f62266c0f94bf76496bc77114e7a96d2de3d7bcba91d0ba2856f/Pillow-10.0.1-cp310-cp310-win_amd64.whl.metadata\n",
      "  Downloading Pillow-10.0.1-cp310-cp310-win_amd64.whl.metadata (9.6 kB)\n",
      "Collecting pyparsing>=2.3.1 (from matplotlib!=3.6.1,>=3.3->seaborn)\n",
      "  Obtaining dependency information for pyparsing>=2.3.1 from https://files.pythonhosted.org/packages/39/92/8486ede85fcc088f1b3dba4ce92dd29d126fd96b0008ea213167940a2475/pyparsing-3.1.1-py3-none-any.whl.metadata\n",
      "  Downloading pyparsing-3.1.1-py3-none-any.whl.metadata (5.1 kB)\n",
      "Requirement already satisfied: python-dateutil>=2.7 in c:\\users\\hari\\anaconda3\\envs\\sentimentanalysis\\lib\\site-packages (from matplotlib!=3.6.1,>=3.3->seaborn) (2.8.2)\n",
      "Requirement already satisfied: pytz>=2020.1 in c:\\users\\hari\\anaconda3\\envs\\sentimentanalysis\\lib\\site-packages (from pandas>=1.2->seaborn) (2023.3.post1)\n",
      "Requirement already satisfied: tzdata>=2022.1 in c:\\users\\hari\\anaconda3\\envs\\sentimentanalysis\\lib\\site-packages (from pandas>=1.2->seaborn) (2023.3)\n",
      "Requirement already satisfied: six>=1.5 in c:\\users\\hari\\anaconda3\\envs\\sentimentanalysis\\lib\\site-packages (from python-dateutil>=2.7->matplotlib!=3.6.1,>=3.3->seaborn) (1.16.0)\n",
      "Downloading seaborn-0.13.0-py3-none-any.whl (294 kB)\n",
      "   ---------------------------------------- 0.0/294.6 kB ? eta -:--:--\n",
      "   ---------------------------------- ----- 256.0/294.6 kB 7.9 MB/s eta 0:00:01\n",
      "   ---------------------------------------- 294.6/294.6 kB 3.6 MB/s eta 0:00:00\n",
      "Downloading matplotlib-3.8.0-cp310-cp310-win_amd64.whl (7.6 MB)\n",
      "   ---------------------------------------- 0.0/7.6 MB ? eta -:--:--\n",
      "   --- ------------------------------------ 0.6/7.6 MB 20.1 MB/s eta 0:00:01\n",
      "   ------- -------------------------------- 1.4/7.6 MB 15.3 MB/s eta 0:00:01\n",
      "   --------- ------------------------------ 1.8/7.6 MB 11.7 MB/s eta 0:00:01\n",
      "   ---------- ----------------------------- 2.0/7.6 MB 11.7 MB/s eta 0:00:01\n",
      "   ----------- ---------------------------- 2.2/7.6 MB 8.4 MB/s eta 0:00:01\n",
      "   ------------- -------------------------- 2.7/7.6 MB 8.5 MB/s eta 0:00:01\n",
      "   ---------------- ----------------------- 3.1/7.6 MB 8.6 MB/s eta 0:00:01\n",
      "   ----------------- ---------------------- 3.4/7.6 MB 8.7 MB/s eta 0:00:01\n",
      "   ---------------------- ----------------- 4.3/7.6 MB 9.4 MB/s eta 0:00:01\n",
      "   --------------------------- ------------ 5.2/7.6 MB 10.2 MB/s eta 0:00:01\n",
      "   ------------------------------- -------- 6.1/7.6 MB 11.0 MB/s eta 0:00:01\n",
      "   ------------------------------------- -- 7.2/7.6 MB 11.4 MB/s eta 0:00:01\n",
      "   ---------------------------------------  7.6/7.6 MB 11.6 MB/s eta 0:00:01\n",
      "   ---------------------------------------- 7.6/7.6 MB 10.6 MB/s eta 0:00:00\n",
      "Downloading contourpy-1.1.1-cp310-cp310-win_amd64.whl (477 kB)\n",
      "   ---------------------------------------- 0.0/478.0 kB ? eta -:--:--\n",
      "   --------------------------------------- 478.0/478.0 kB 15.1 MB/s eta 0:00:00\n",
      "Downloading cycler-0.12.0-py3-none-any.whl (8.2 kB)\n",
      "Downloading fonttools-4.43.0-cp310-cp310-win_amd64.whl (2.1 MB)\n",
      "   ---------------------------------------- 0.0/2.1 MB ? eta -:--:--\n",
      "   ------------------ --------------------- 1.0/2.1 MB 20.5 MB/s eta 0:00:01\n",
      "   ------------------------------------ --- 2.0/2.1 MB 17.8 MB/s eta 0:00:01\n",
      "   ---------------------------------------- 2.1/2.1 MB 15.1 MB/s eta 0:00:00\n",
      "Downloading kiwisolver-1.4.5-cp310-cp310-win_amd64.whl (56 kB)\n",
      "   ---------------------------------------- 0.0/56.1 kB ? eta -:--:--\n",
      "   ---------------------------------------- 56.1/56.1 kB ? eta 0:00:00\n",
      "Downloading Pillow-10.0.1-cp310-cp310-win_amd64.whl (2.5 MB)\n",
      "   ---------------------------------------- 0.0/2.5 MB ? eta -:--:--\n",
      "   ----------------- ---------------------- 1.1/2.5 MB 23.6 MB/s eta 0:00:01\n",
      "   ---------------------------- ----------- 1.8/2.5 MB 18.9 MB/s eta 0:00:01\n",
      "   ------------------------------------- -- 2.4/2.5 MB 16.7 MB/s eta 0:00:01\n",
      "   ---------------------------------------  2.5/2.5 MB 16.0 MB/s eta 0:00:01\n",
      "   ---------------------------------------- 2.5/2.5 MB 12.3 MB/s eta 0:00:00\n",
      "Downloading pyparsing-3.1.1-py3-none-any.whl (103 kB)\n",
      "   ---------------------------------------- 0.0/103.1 kB ? eta -:--:--\n",
      "   ---------------------------------------- 103.1/103.1 kB 6.2 MB/s eta 0:00:00\n",
      "Installing collected packages: pyparsing, pillow, kiwisolver, fonttools, cycler, contourpy, matplotlib, seaborn\n",
      "Successfully installed contourpy-1.1.1 cycler-0.12.0 fonttools-4.43.0 kiwisolver-1.4.5 matplotlib-3.8.0 pillow-10.0.1 pyparsing-3.1.1 seaborn-0.13.0\n"
     ]
    }
   ],
   "source": [
    "!pip install seaborn"
   ]
  },
  {
   "cell_type": "code",
   "execution_count": null,
   "id": "d3dfc71f",
   "metadata": {},
   "outputs": [],
   "source": []
  }
 ],
 "metadata": {
  "kernelspec": {
   "display_name": "Python 3 (ipykernel)",
   "language": "python",
   "name": "python3"
  },
  "language_info": {
   "codemirror_mode": {
    "name": "ipython",
    "version": 3
   },
   "file_extension": ".py",
   "mimetype": "text/x-python",
   "name": "python",
   "nbconvert_exporter": "python",
   "pygments_lexer": "ipython3",
   "version": "3.10.13"
  }
 },
 "nbformat": 4,
 "nbformat_minor": 5
}
